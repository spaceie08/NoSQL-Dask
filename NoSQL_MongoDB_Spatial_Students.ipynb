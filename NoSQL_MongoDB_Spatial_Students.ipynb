{
 "cells": [
  {
   "cell_type": "markdown",
   "metadata": {},
   "source": [
    "# NoSQL Database Exercise - MongoDB Spatial\n",
    "\n",
    "Big GeoData Processing \n",
    "\n",
    "By: Mahdi Farnaghi"
   ]
  },
  {
   "cell_type": "markdown",
   "metadata": {},
   "source": [
    "## **Introduction to MongoDB**\n",
    "\n",
    "MongoDB is a popular NoSQL database that provides a scalable and high-performance platform for storing and processing a wide variety of data types, including spatial data. Unlike traditional relational databases, MongoDB stores data in a JSON-like format called BSON (Binary JSON), which allows for dynamic and flexible schema design. This makes MongoDB particularly suitable for modern applications that deal with diverse data types and structures.\n",
    "\n",
    "### **Why Use MongoDB for Spatial Data?**\n",
    "MongoDB supports geospatial data natively, allowing you to store complex geographical shapes, create geospatial indexes, and perform spatial queries efficiently. These capabilities make MongoDB an excellent choice for applications that need to handle location-based services, mapping, geographic information systems (GIS), and more.\n",
    "\n",
    "Before we go deep, let us have a little bit of recap from the previous lecture about CAP and BASE.\n",
    "\n",
    "### **CAP Theorem in Distributed Databases**\n",
    "The **CAP theorem** (also known as Brewer's theorem) is a fundamental principle in distributed database systems that states a database can only guarantee two out of three properties at any given time:\n",
    "1. **Consistency**: Every read receives the most recent write. In other words, all nodes in the database reflect the same data at a given moment.\n",
    "2. **Availability**: Every request (read or write) receives a response, even if some nodes in the system are down.\n",
    "3. **Partition Tolerance**: The system continues to function despite communication breakdowns or network failures between nodes.\n",
    "\n",
    "Given the CAP theorem, distributed databases like MongoDB have to make trade-offs:\n",
    "- **CP (Consistency and Partition Tolerance)**: Systems that prioritize consistency will return errors or delay responses during network partitions to ensure that all nodes have the same data. \n",
    "- **AP (Availability and Partition Tolerance)**: Systems that prioritize availability will return the most current available data even if the network is partitioned, potentially sacrificing consistency.\n",
    "\n",
    "**MongoDB** falls into the **AP (Availability and Partition Tolerance)** category. It is designed to provide high availability and partition tolerance, making it suitable for large-scale applications that require robust data handling even in the presence of network failures.\n",
    "\n",
    "### **BASE Principle**\n",
    "In contrast to the **ACID** properties of traditional relational databases (Atomicity, Consistency, Isolation, Durability), MongoDB adheres to the **BASE** principle:\n",
    "1. **Basically Available**: The database is always available to respond to queries, though the data returned may not always be the most recent.\n",
    "2. **Soft State**: Data is not always in a consistent state across the database due to eventual consistency. The state of data can change over time as updates propagate.\n",
    "3. **Eventual Consistency**: Given enough time, the database will eventually reach a consistent state where all nodes reflect the most recent updates.\n",
    "\n",
    "MongoDB's **BASE** properties make it a suitable choice for scenarios where availability, flexibility, and scalability are more critical than strict consistency. For example, in geospatial applications like tracking the real-time location of vehicles, users often prioritize getting data quickly (even if slightly out-of-date) over waiting for perfectly consistent data across all nodes."
   ]
  },
  {
   "cell_type": "markdown",
   "metadata": {},
   "source": [
    "## Spatial data processing capabilities of MongoDB\n",
    "MongoDB provides a range of spatial data processing capabilities that are essential for working with geospatial data. These functionalities allow users to store, index, and query spatial data efficiently. Here’s a list of spatial data processing features in MongoDB that should be covered in a comprehensive tutorial:\n",
    "\n",
    "### 1. **Spatial Data Storage and GeoJSON Support**\n",
    "   - **Storing Spatial Data**: MongoDB supports storing geospatial data in GeoJSON format, which includes geometry types like:\n",
    "     - `Point`: Represents a specific coordinate (latitude, longitude).\n",
    "     - `LineString`: A series of connected points representing a line.\n",
    "     - `Polygon`: Defines an area enclosed by a series of coordinates.\n",
    "     - `MultiPoint`, `MultiLineString`, `MultiPolygon`: Collections of points, lines, or polygons.\n",
    "     - `GeometryCollection`: A group of different geometries.\n",
    "   - **Arrays of Coordinates**: MongoDB also allows storing coordinates directly as arrays for simple `2d` indexes.\n",
    "\n",
    "### 2. **Geospatial Indexing**\n",
    "   - **`2dsphere` Index**: Designed for queries on spherical surfaces like Earth. It supports various GeoJSON geometries, including `Point`, `LineString`, and `Polygon`.\n",
    "   - **`2d` Index**: An older index type optimized for storing planar geometry (e.g., flat maps). Typically used for legacy systems or non-GeoJSON data.\n",
    "   - **Compound Indexes**: Combining geospatial indexes with other types of indexes (e.g., text, numeric) for complex queries that filter on multiple fields.\n",
    "\n",
    "### 3. **Geospatial Queries**\n",
    "   MongoDB provides several geospatial query operators to work with spatial data:\n",
    "   - **`$geoWithin`**: Finds documents within a specified geometry (Polygon, MultiPolygon, etc.). This operator is useful for queries like finding points of interest within a city or neighborhood.\n",
    "   - **`$geoIntersects`**: Returns documents that intersect with a given geometry. This can be used to find routes or paths that cross a specific area.\n",
    "   - **`$near` and `$nearSphere`**: Returns documents sorted by their proximity to a specified point. This is helpful for location-based queries, such as finding the nearest subway stations or restaurants.\n",
    "   - **`$geoNear`**: A specialized aggregation stage that sorts documents by proximity to a point and provides additional control over distance and spherical calculations.\n",
    "\n",
    "### 4. **Distance Calculations**\n",
    "   - **`$maxDistance`**: Used in conjunction with `$near` and `$geoWithin` to limit query results to those within a certain distance from a point.\n",
    "   - **Spherical Geometry Calculations**: MongoDB uses spherical calculations (e.g., Haversine formula) to compute distances on an Earth-like sphere when using `2dsphere` indexes.\n",
    "   - **Metric Conversions**: MongoDB supports distance queries in meters (for `2dsphere`) and arbitrary units (for `2d` indexes).\n",
    "\n",
    "### 5. **Aggregation Framework and Geospatial Processing**\n",
    "   - **`$geoNear`** Aggregation Stage: An advanced operation within MongoDB’s aggregation pipeline that sorts documents by proximity to a given point and can return distances as part of the output.\n",
    "   - **Combining Aggregation with Geospatial Queries**: Combining geospatial queries with other aggregation operations (`$match`, `$group`, `$project`, etc.) for more complex data processing tasks, such as calculating the average population density within a set of spatial regions.\n",
    "   \n",
    "### 6. **Geospatial Data Validation**\n",
    "   - **GeoJSON Validation**: MongoDB checks that the GeoJSON objects stored in the database are valid. For example, a polygon's ring must be closed, and its coordinates must be in valid ranges.\n",
    "   - **Automatic Error Handling**: MongoDB provides error messages for invalid spatial data formats or incorrect usage of geospatial operators.\n",
    "\n",
    "### 7. **Complex Spatial Data Manipulation**\n",
    "   - **Multi-Geometry Handling**: MongoDB can handle complex geometries like `MultiPolygon`, `MultiLineString`, and `GeometryCollection`, allowing for the storage and querying of intricate spatial features.\n",
    "   - **Clipping and Cutting Geometries**: While MongoDB does not natively support complex spatial operations like clipping or buffering geometries, it can store results of such operations performed in external GIS tools or libraries (e.g., `shapely`, `geopandas` in Python) and perform further spatial queries on them.\n",
    "\n",
    "### 8. **Geo-Specific Use Cases**\n",
    "   - **Polygon Intersection and Inclusion**: Determine whether geographical features (e.g., parcels of land, neighborhoods) intersect with other shapes, such as finding census blocks within a specific district.\n",
    "   - **Neighborhood and Route Analysis**: Use geospatial queries to analyze network features like roadways and public transportation routes.\n",
    "   - **Spatial Clustering**: Although MongoDB does not directly provide spatial clustering (like DBSCAN), students can combine MongoDB's spatial queries with external Python libraries to implement such clustering and then store and visualize the clusters within MongoDB.\n",
    "\n",
    "### 9. **Spatial Data Index Optimization**\n",
    "   - **Index Design**: Guide students through best practices for designing indexes for geospatial queries, including creating compound indexes for queries that combine geospatial data with other criteria (e.g., timestamp, category).\n",
    "   - **Performance Tuning**: Teach how to monitor query performance using MongoDB's explain plan to identify if queries are using the geospatial indexes effectively.\n",
    "\n",
    "### 10. **Real-Time Spatial Analysis**\n",
    "   - **Change Streams**: Use MongoDB's change streams to monitor real-time changes to geospatial data, such as tracking updates to the location of moving objects (e.g., vehicles, deliveries).\n"
   ]
  },
  {
   "cell_type": "markdown",
   "metadata": {},
   "source": [
    "## Readings\n",
    "\n",
    "Read Geospatial Queries"
   ]
  },
  {
   "cell_type": "markdown",
   "metadata": {},
   "source": [
    "## **Tutorial**"
   ]
  },
  {
   "cell_type": "markdown",
   "metadata": {},
   "source": [
    "Prerequisites:\n",
    "\n",
    "1. Python 3.x installed.\n",
    "2. MongoDB installed locally or access to a MongoDB server.\n",
    "3. MongoDB Python driver (pymongo) and spatial data visualization libraries (geopandas, matplotlib, and folium) installed.\n",
    "4. Sample NYC data files in GeoJSON format or JSON with spatial coordinates."
   ]
  },
  {
   "cell_type": "markdown",
   "metadata": {},
   "source": [
    "### Step 1: Install Required Python Packages\n",
    "\n",
    "Install the required Python packages:"
   ]
  },
  {
   "cell_type": "code",
   "execution_count": null,
   "metadata": {},
   "outputs": [],
   "source": [
    "!pip install -q pymongo geopandas folium matplotlib"
   ]
  },
  {
   "cell_type": "markdown",
   "metadata": {},
   "source": [
    "Specify the path the folder that include NYC data"
   ]
  },
  {
   "cell_type": "code",
   "execution_count": 2,
   "metadata": {},
   "outputs": [],
   "source": [
    "data_path = 'nyc_data_json'"
   ]
  },
  {
   "cell_type": "markdown",
   "metadata": {},
   "source": [
    "### Step 2: Start MongoDB Server (Mac and Windows Instructions)\n",
    "\n",
    "Before you can begin working with spatial data in MongoDB, you need to ensure that the MongoDB server is running on your machine. The steps vary slightly depending on whether you're using macOS or Windows. Here's how to get started on each platform:\n",
    "\n",
    "#### **For macOS Users:**\n",
    "\n",
    "1. **Install MongoDB**:\n",
    "\n",
    "   - Open Terminal and install Homebrew if you haven't already:\n",
    "\n",
    "     ```bash\n",
    "     /bin/bash -c \"$(curl -fsSL https://raw.githubusercontent.com/Homebrew/install/HEAD/install.sh)\"\n",
    "     ```\n",
    "\n",
    "   - Install MongoDB using Homebrew:\n",
    "\n",
    "     ```bash\n",
    "     brew tap mongodb/brew\n",
    "     brew install mongodb-community@6.0\n",
    "     ```\n",
    "\n",
    "   - After installation, add MongoDB to your PATH (optional):\n",
    "\n",
    "     ```bash\n",
    "     echo 'export PATH=\"/usr/local/opt/mongodb-community@6.0/bin:$PATH\"' >> ~/.zshrc\n",
    "     source ~/.zshrc\n",
    "     ```\n",
    "\n",
    "2. **Start MongoDB**:\n",
    "\n",
    "   - To start the MongoDB server, run:\n",
    "\n",
    "     ```bash\n",
    "     brew services start mongodb/brew/mongodb-community\n",
    "     ```\n",
    "\n",
    "   - To stop the MongoDB server when you are finished:\n",
    "\n",
    "     ```bash\n",
    "     brew services stop mongodb/brew/mongodb-community\n",
    "     ```\n",
    "\n",
    "3. **Verify MongoDB is Running**:\n",
    "\n",
    "   - Open a new Terminal window and type:\n",
    "\n",
    "     ```bash\n",
    "     mongo\n",
    "     ```\n",
    "\n",
    "   - If everything is set up correctly, you will see the MongoDB shell prompt.\n",
    "\n",
    "#### **For Windows Users:**\n",
    "\n",
    "1. **Install MongoDB**:\n",
    "   - Download the MongoDB installer from the [official MongoDB website](https://www.mongodb.com/try/download/community) for Windows.\n",
    "   - Follow the installation instructions and make sure to select \"Install MongoDB as a Service\" during the setup. This option allows MongoDB to run automatically in the background when you start your computer.\n",
    "   \n",
    "2. **Start MongoDB**:\n",
    "\n",
    "   - MongoDB should start automatically if you installed it as a service. However, if you need to start it manually, open the **Command Prompt** with administrator privileges and run:\n",
    "\n",
    "     ```bash\n",
    "     net start MongoDB\n",
    "     ```\n",
    "\n",
    "   - To stop the MongoDB server, use:\n",
    "\n",
    "     ```bash\n",
    "     net stop MongoDB\n",
    "     ```\n",
    "\n",
    "3. **Verify MongoDB is Running**:\n",
    "\n",
    "   - Open the **Command Prompt** and type:\n",
    "\n",
    "     ```bash\n",
    "     mongo\n",
    "     ```\n",
    "\n",
    "   - If MongoDB is running correctly, you will see the MongoDB shell prompt.\n",
    "\n",
    "#### **For Both Platforms (Mac and Windows):**\n",
    "\n",
    "- If you want to specify a custom data directory for MongoDB to store its data files, create a new directory (e.g., `mongodb-data`) and start the server with the following command:\n",
    "\n",
    "  ```bash\n",
    "  mongod --dbpath /path/to/your/mongodb-data\n",
    "  ```\n",
    "  \n",
    "  Replace `/path/to/your/mongodb-data` with the actual path to your custom directory.\n",
    "\n",
    "Now that your MongoDB server is running, you can proceed to the next step, where you will set up a database and import spatial data for processing."
   ]
  },
  {
   "cell_type": "markdown",
   "metadata": {},
   "source": [
    "### Step 3: Set Up MongoDB and Import Data\n",
    "\n",
    "Use the following Python script to connect to MongoDB and import the spatial datasets."
   ]
  },
  {
   "cell_type": "code",
   "execution_count": null,
   "metadata": {},
   "outputs": [],
   "source": [
    "import os\n",
    "import pymongo\n",
    "from pymongo import MongoClient\n",
    "import json\n",
    "import geopandas as gpd\n",
    "from shapely.validation import make_valid\n",
    "\n",
    "\n",
    "# Connect to MongoDB server\n",
    "client = MongoClient('localhost', 27017)\n",
    "\n",
    "# Create a new database and collections\n",
    "db = client['nyc_spatial_data']\n",
    "\n",
    "# Define data files using data_path\n",
    "data_files = {\n",
    "    'nyc_census_blocks': os.path.join(data_path, 'nyc_census_blocks.geojson'),\n",
    "    'nyc_neighborhoods': os.path.join(data_path, 'nyc_neighborhoods.geojson'),\n",
    "    'nyc_streets': os.path.join(data_path, 'nyc_streets.geojson'),\n",
    "    'nyc_subway_stations': os.path.join(data_path, 'nyc_subway_stations.geojson'),\n",
    "    'nyc_homicides': os.path.join(data_path, 'nyc_homicides.geojson')\n",
    "}\n",
    "\n",
    "# Function to convert GeoJSON to EPSG:4326 and clean geometries\n",
    "def convert_to_epsg_4326(input_geojson, output_geojson):\n",
    "    # Read the GeoJSON file\n",
    "    gdf = gpd.read_file(input_geojson)\n",
    "    \n",
    "    # Convert the coordinate system to EPSG:4326\n",
    "    gdf = gdf.to_crs(epsg=4326)\n",
    "    \n",
    "    # Clean geometries: fix self-intersections and invalid polygons\n",
    "    gdf['geometry'] = gdf['geometry'].apply(lambda geom: make_valid(geom) if not geom.is_valid else geom)\n",
    "    \n",
    "    # Save the transformed and cleaned GeoJSON\n",
    "    gdf.to_file(output_geojson, driver='GeoJSON')\n",
    "\n",
    "# Import data into MongoDB only if the collection is empty\n",
    "for collection_name, file_path in data_files.items():\n",
    "    collection = db[collection_name]\n",
    "    \n",
    "    # Check if the collection is empty\n",
    "    if collection.count_documents({}) == 0:\n",
    "        print(f\"Processing '{collection_name}'...\")\n",
    "\n",
    "        # Convert coordinate system if it's a spatial dataset\n",
    "        if file_path.endswith('.geojson'):\n",
    "            temp_file_path = os.path.join(data_path, f'transformed_{collection_name}.geojson')\n",
    "            convert_to_epsg_4326(file_path, temp_file_path)\n",
    "            file_path = temp_file_path  # Use the transformed file for MongoDB insertion\n",
    "        \n",
    "        # Insert data into MongoDB\n",
    "        with open(file_path) as file:\n",
    "            data = json.load(file)\n",
    "            if isinstance(data, dict) and 'features' in data:\n",
    "                # Handle GeoJSON format\n",
    "                collection.insert_many(data['features'])\n",
    "            elif isinstance(data, list):\n",
    "                # Handle JSON format\n",
    "                collection.insert_many(data)\n",
    "        \n",
    "        print(f\"Data inserted into the '{collection_name}' collection successfully.\")\n",
    "    else:\n",
    "        print(f\"Data already exists in the '{collection_name}' collection. Skipping insertion.\")\n",
    "\n",
    "print(\"Data loading check completed.\")\n"
   ]
  },
  {
   "cell_type": "markdown",
   "metadata": {},
   "source": [
    "Check the data in MongoDB Compass:\n",
    "\n",
    "    Open MongoDB Compass and check to see the database and the data collections created in step 3. "
   ]
  },
  {
   "cell_type": "markdown",
   "metadata": {},
   "source": [
    "### Step 4: Create Geospatial Indexes\n",
    "\n",
    "Indexes optimize query performance, particularly for spatial data. We will create a 2dsphere index on the collections containing spatial data."
   ]
  },
  {
   "cell_type": "code",
   "execution_count": null,
   "metadata": {},
   "outputs": [],
   "source": [
    "# Create 2dsphere index for geospatial queries if it does not exist\n",
    "collections_to_index = ['nyc_census_blocks', 'nyc_neighborhoods', 'nyc_streets', 'nyc_subway_stations', 'nyc_homicides']\n",
    "\n",
    "for collection_name in collections_to_index:\n",
    "    collection = db[collection_name]\n",
    "    \n",
    "    # Check if a 2dsphere index on the \"geometry\" field already exists\n",
    "    indexes = collection.list_indexes()\n",
    "    index_exists = any(index['key'] == [('geometry', '2dsphere')] for index in indexes)\n",
    "    \n",
    "    if not index_exists:\n",
    "        collection.create_index([(\"geometry\", \"2dsphere\")])\n",
    "        print(f\"2dsphere index created for '{collection_name}' collection.\")\n",
    "    else:\n",
    "        print(f\"2dsphere index already exists for '{collection_name}' collection.\")\n",
    "\n",
    "print(\"Geospatial index check completed.\")\n"
   ]
  },
  {
   "cell_type": "markdown",
   "metadata": {},
   "source": [
    "### Step 5: Retrieve Data Using GeoPandas and Render\n",
    "\n",
    "- Retrieve the neighborhood data from MongoDB.\n",
    "- Convert it into a GeoDataFrame.\n",
    "- Render it to display the neighborhoods on a plot."
   ]
  },
  {
   "cell_type": "code",
   "execution_count": null,
   "metadata": {},
   "outputs": [],
   "source": [
    "\n",
    "import geopandas as gpd\n",
    "from shapely.geometry import shape\n",
    "from matplotlib import pyplot as plt\n",
    "\n",
    "# Retrieve neighborhood data from MongoDB\n",
    "neighborhoods_data = list(db['nyc_neighborhoods'].find())\n",
    "\n",
    "# Extract the geometries and properties\n",
    "geo_data = []\n",
    "for neighborhood in neighborhoods_data:\n",
    "    geometry = shape(neighborhood['geometry'])  # Convert GeoJSON to Shapely geometry\n",
    "    properties = neighborhood['properties']\n",
    "    properties['geometry'] = geometry\n",
    "    geo_data.append(properties)\n",
    "\n",
    "# Create a GeoDataFrame\n",
    "gdf_neighborhoods = gpd.GeoDataFrame(geo_data)\n",
    "\n",
    "# Set the coordinate reference system (CRS) to WGS 84 (EPSG:4326)\n",
    "gdf_neighborhoods.set_crs(epsg=4326, inplace=True)\n",
    "\n",
    "# Plot the neighborhoods\n",
    "gdf_neighborhoods.plot(figsize=(10, 8), edgecolor='black', color='lightblue')\n",
    "plt.title('NYC Neighborhoods')\n",
    "plt.xlabel('Longitude')\n",
    "plt.ylabel('Latitude')\n",
    "plt.show()\n"
   ]
  },
  {
   "cell_type": "markdown",
   "metadata": {},
   "source": [
    "### Step 5: Execute Basic Spatial Queries\n",
    "\n",
    "Introduce some basic spatial queries to get hands-on experience with geospatial data in MongoDB."
   ]
  },
  {
   "cell_type": "markdown",
   "metadata": {},
   "source": [
    "Example 1: Retrieve one record."
   ]
  },
  {
   "cell_type": "code",
   "execution_count": null,
   "metadata": {},
   "outputs": [],
   "source": [
    "sample_neighborhood = db['nyc_neighborhoods'].find_one()\n",
    "print(sample_neighborhood['properties'])"
   ]
  },
  {
   "cell_type": "markdown",
   "metadata": {},
   "source": [
    "Example 2: Find Neighborhoods Within a Specific Area"
   ]
  },
  {
   "cell_type": "code",
   "execution_count": null,
   "metadata": {},
   "outputs": [],
   "source": [
    "query_area = {\n",
    "    \"type\": \"Polygon\",\n",
    "    \"coordinates\": [\n",
    "          [\n",
    "            [\n",
    "              -74.26147476695385,\n",
    "              40.52199880582248\n",
    "            ],\n",
    "            [\n",
    "              -74.26147476695385,\n",
    "              40.492319878372314\n",
    "            ],\n",
    "            [\n",
    "              -74.21576099232007,\n",
    "              40.492319878372314\n",
    "            ],\n",
    "            [\n",
    "              -74.21576099232007,\n",
    "              40.52199880582248\n",
    "            ],\n",
    "            [\n",
    "              -74.26147476695385,\n",
    "              40.52199880582248\n",
    "            ]\n",
    "          ]\n",
    "        ]\n",
    "}\n",
    "\n",
    "neighborhoods = db['nyc_neighborhoods'].find({\n",
    "    \"geometry\": {\n",
    "        \"$geoWithin\": {\n",
    "            \"$geometry\": query_area\n",
    "        }\n",
    "    }\n",
    "})\n",
    "\n",
    "print(\"Neighborhoods in the specified area:\")\n",
    "for neighborhood in neighborhoods:\n",
    "    print(neighborhood['properties']['BORONAME'])\n"
   ]
  },
  {
   "cell_type": "markdown",
   "metadata": {},
   "source": [
    "Example 3: Find Subway Stations Near a Point"
   ]
  },
  {
   "cell_type": "code",
   "execution_count": null,
   "metadata": {},
   "outputs": [],
   "source": [
    "point = {\n",
    "    \"type\": \"Point\",\n",
    "    \"coordinates\": [-73.9857, 40.7484]  # Near Times Square\n",
    "}\n",
    "\n",
    "nearby_stations = db['nyc_subway_stations'].find({\n",
    "    \"geometry\": {\n",
    "        \"$near\": {\n",
    "            \"$geometry\": point,\n",
    "            \"$maxDistance\": 250  # Meters\n",
    "        }\n",
    "    }\n",
    "})\n",
    "\n",
    "print(\"Subway stations near the specified point:\")\n",
    "for station in nearby_stations:\n",
    "    print(station['properties']['NAME'])\n"
   ]
  },
  {
   "cell_type": "markdown",
   "metadata": {},
   "source": [
    "### Step 6: Display Query Results in Tables\n",
    "\n",
    "Use pandas and geopandas to display query results in a table."
   ]
  },
  {
   "cell_type": "code",
   "execution_count": null,
   "metadata": {},
   "outputs": [],
   "source": [
    "import pandas as pd\n",
    "import geopandas as gpd\n",
    "from shapely.geometry import shape\n",
    "\n",
    "# Convert MongoDB query results to GeoDataFrame for the neighborhood query\n",
    "neighborhoods_list = list(db['nyc_neighborhoods'].find({\n",
    "    \"geometry\": {\n",
    "        \"$geoWithin\": {\n",
    "            \"$geometry\": query_area\n",
    "        }\n",
    "    }\n",
    "}))\n",
    "\n",
    "# Extract properties and geometry for the table\n",
    "data = [{'name': n['properties']['NAME'], 'boroname':n['properties']['BORONAME'], 'geometry': shape(n['geometry'])} for n in neighborhoods_list]\n",
    "gdf = gpd.GeoDataFrame(data)\n",
    "\n",
    "# Set the geometry column and coordinate reference system (CRS) to WGS 84\n",
    "gdf.set_geometry('geometry', inplace=True)\n",
    "gdf.set_crs(epsg=4326, inplace=True)\n",
    "\n",
    "gdf"
   ]
  },
  {
   "cell_type": "code",
   "execution_count": null,
   "metadata": {},
   "outputs": [],
   "source": [
    "\n",
    "# Plot the GeoDataFrame\n",
    "gdf.plot()\n",
    "plt.title('Selected Neighborhoods')\n",
    "plt.xlabel('Longitude')\n",
    "plt.ylabel('Latitude')\n",
    "plt.show()\n"
   ]
  },
  {
   "cell_type": "markdown",
   "metadata": {},
   "source": [
    "## Exercises\n",
    "\n",
    "Do the exercises and answer the questions. Provide the code for each exercise and answers to the questions in the designated cell. \n",
    "\n"
   ]
  },
  {
   "cell_type": "markdown",
   "metadata": {},
   "source": [
    "### Exercise 1\n",
    "\n",
    "Calculate the area of a neighborhood with the name of 'West Village'."
   ]
  },
  {
   "cell_type": "code",
   "execution_count": 11,
   "metadata": {},
   "outputs": [],
   "source": [
    "from shapely.geometry import shape\n",
    "from pyproj import Transformer\n",
    "from shapely.ops import transform\n",
    "neighborhoods_wv = db['nyc_neighborhoods'].find({\n",
    "    \"properties.NAME\": \"West Village\"\n",
    "})\n",
    "\n",
    "for neighborhood in neighborhoods_wv:\n",
    "    geom=shape(neighborhood['geometry'])\n"
   ]
  },
  {
   "cell_type": "code",
   "execution_count": null,
   "metadata": {},
   "outputs": [],
   "source": [
    "transformer = Transformer.from_crs(\"EPSG:4326\", \"EPSG:3857\", always_xy=True)\n",
    "projected_geometry = transform(transformer.transform, geom)\n",
    "area = projected_geometry.area\n",
    "print(f\"Area in square km_meters: {area/1000000}\")"
   ]
  },
  {
   "cell_type": "markdown",
   "metadata": {},
   "source": [
    "**Question:** \n",
    "\n",
    "Did you use the built-in functionalities of MongoDB or Python libraries to calculate the area?\n",
    "\n",
    "I tried to look up if the MongoDB has the built it functionality to calculate the area. I found that there are very small number of geospatial functions that MongoDB supports. Therefore, I first loaded the geomtry into a shapely geometry object. Then transformed into cartesian coordinates to calculate the area of the shape in KM Squares"
   ]
  },
  {
   "cell_type": "markdown",
   "metadata": {},
   "source": [
    "### Exercise 2\n",
    "\n",
    "What are the names of all the neighborhoods in New York City?"
   ]
  },
  {
   "cell_type": "code",
   "execution_count": null,
   "metadata": {},
   "outputs": [],
   "source": [
    "neighborhoods_ny = db['nyc_neighborhoods'].find()\n",
    "names=[]\n",
    "\n",
    "for neighborhood in neighborhoods_ny:\n",
    "    names.append(neighborhood['properties']['NAME'])\n",
    "\n",
    "print (names)\n"
   ]
  },
  {
   "cell_type": "markdown",
   "metadata": {},
   "source": [
    "What are the names of all the neighborhoods in Brooklyn?"
   ]
  },
  {
   "cell_type": "code",
   "execution_count": null,
   "metadata": {},
   "outputs": [],
   "source": [
    "neighborhoods_bk = db['nyc_neighborhoods'].find({\n",
    "    \n",
    "    \"properties.BORONAME\": \"Brooklyn\"\n",
    "    \n",
    "})\n",
    "names=[]\n",
    "\n",
    "for neighborhood in neighborhoods_bk:\n",
    "    names.append(neighborhood['properties']['NAME'])\n",
    "    \n",
    "print(names)\n"
   ]
  },
  {
   "cell_type": "markdown",
   "metadata": {},
   "source": [
    "### Exercise 3\n",
    "\n",
    "How many records are in the nyc_streets table?"
   ]
  },
  {
   "cell_type": "code",
   "execution_count": null,
   "metadata": {},
   "outputs": [],
   "source": [
    "#MongoDB has .count_documents function to count all the records\n",
    "\n",
    "count = db['nyc_streets'].count_documents({})\n",
    "print(f\"There are {count} records in nyc_streets table\")"
   ]
  },
  {
   "cell_type": "markdown",
   "metadata": {},
   "source": [
    "How many streets in NYC start with ‘B’?"
   ]
  },
  {
   "cell_type": "code",
   "execution_count": null,
   "metadata": {},
   "outputs": [],
   "source": [
    "#It  can be done using the regular expression\n",
    "\n",
    "count = db['nyc_streets'].count_documents({\n",
    "    \n",
    "    \"properties.NAME\":{\"$regex\": \"^B\"}   \n",
    "})\n",
    "print (f\"There are in total {count} streets in NYC that starts with 'B'\")"
   ]
  },
  {
   "cell_type": "markdown",
   "metadata": {},
   "source": [
    "### Exercise 4"
   ]
  },
  {
   "cell_type": "markdown",
   "metadata": {},
   "source": [
    "What is the population of the City of New York?"
   ]
  },
  {
   "cell_type": "markdown",
   "metadata": {},
   "source": [
    "The aggregate function can be used to sum the total population. An aggregation pipeline consists of one or more stages that process documents:\n",
    "\n",
    "Each stage performs an operation on the input documents. For example, a stage can filter documents, group documents, and calculate values.\n",
    "\n",
    "The documents that are output from a stage are passed to the next stage.\n",
    "\n",
    "An aggregation pipeline can return results for groups of documents. For example, return the total, average, maximum, and minimum values.\n",
    "\n",
    "https://www.mongodb.com/docs/manual/core/aggregation-pipeline/#std-label-aggregation-p"
   ]
  },
  {
   "cell_type": "code",
   "execution_count": null,
   "metadata": {},
   "outputs": [],
   "source": [
    "t_pop = db['nyc_census_blocks'].aggregate([\n",
    "    { \n",
    "        \"$group\": { \n",
    "            \"_id\": None,  # No grouping, we want the total for all documents\n",
    "            \"totalPopulation\": { \"$sum\": \"$properties.POPN_TOTAL\" }  # Correct field path with $ sign\n",
    "        } \n",
    "    }\n",
    "])\n",
    "\n",
    "for doc in t_pop:\n",
    "    print(f\"The total population is: {doc['totalPopulation']}\")\n"
   ]
  },
  {
   "cell_type": "markdown",
   "metadata": {},
   "source": [
    "What is the population of the 'Staten Island'?"
   ]
  },
  {
   "cell_type": "code",
   "execution_count": null,
   "metadata": {},
   "outputs": [],
   "source": [
    "#Here we implment the filter stage before grouping stage to to filter on the BORONAME and then perform the sum on group\n",
    "\n",
    "\n",
    "\n",
    "t_pop = db['nyc_census_blocks'].aggregate([\n",
    "    \n",
    "    {  \n",
    "        \"$match\": {\n",
    "            \"properties.BORONAME\": \"Staten Island\" \n",
    "        \n",
    "        }   \n",
    "    },\n",
    "\n",
    "    { \n",
    "        \"$group\": { \n",
    "            \"_id\": None,  # No grouping, we want the total for all documents\n",
    "            \"totalPopulation\": { \"$sum\": \"$properties.POPN_TOTAL\" }  # Correct field path with $ sign\n",
    "        } \n",
    "    }\n",
    "])\n",
    "\n",
    "for doc in t_pop:\n",
    "    print(f\"The total population is: {doc['totalPopulation']}\")\n"
   ]
  },
  {
   "cell_type": "markdown",
   "metadata": {},
   "source": [
    "How many “neighborhoods” are in each borough?"
   ]
  },
  {
   "cell_type": "code",
   "execution_count": null,
   "metadata": {},
   "outputs": [],
   "source": [
    "t_pop = db['nyc_neighborhoods'].aggregate([\n",
    "    { \n",
    "        \"$group\": { \n",
    "            \"_id\": \"$properties.BORONAME\" ,  \n",
    "            \"totalNeighbourhoods\": { \"$sum\": 1 }  #The sum being 1 would count the numbers of each\n",
    "        } \n",
    "    }\n",
    "])\n",
    "\n",
    "for doc in t_pop:\n",
    "    print(f\"There are {doc['totalNeighbourhoods']} neigborhoods in {doc['_id']}\")\n"
   ]
  },
  {
   "cell_type": "markdown",
   "metadata": {},
   "source": [
    "For each borough, what percentage of the population is white?"
   ]
  },
  {
   "cell_type": "code",
   "execution_count": null,
   "metadata": {},
   "outputs": [],
   "source": [
    "t_pop = db['nyc_census_blocks'].aggregate([\n",
    "    \n",
    "    {\n",
    "        \"$match\": {  # Match documents where POPN_TOTAL is not zero\n",
    "            \"properties.POPN_TOTAL\": { \"$ne\": 0 }  # Exclude documents with POPN_TOTAL = 0\n",
    "        }\n",
    "    },\n",
    "\n",
    "    { \n",
    "        \"$group\": { \n",
    "            \"_id\": \"$properties.BORONAME\" ,  \n",
    "           \"WhitePercentage\": {\"$avg\": { \"$divide\": [\"$properties.POPN_WHITE\", \"$properties.POPN_TOTAL\"] }   \n",
    "        } \n",
    "    }\n",
    "        \n",
    "    }\n",
    "])\n",
    "\n",
    "for doc in t_pop:\n",
    "    print(f\"There are {doc['WhitePercentage']*100} percent of White people in {doc['_id']}\")\n"
   ]
  },
  {
   "cell_type": "markdown",
   "metadata": {},
   "source": [
    "### Exercise 5\n"
   ]
  },
  {
   "cell_type": "markdown",
   "metadata": {},
   "source": [
    "\n",
    "\n",
    "What neighborhood and borough is 'Bensonhurst' in?"
   ]
  },
  {
   "cell_type": "code",
   "execution_count": null,
   "metadata": {},
   "outputs": [],
   "source": [
    "neighborhoods = db['nyc_neighborhoods'].find({\n",
    "    \n",
    "    \"properties.NAME\": \"Bensonhurst\"\n",
    "    \n",
    "})\n",
    "\n",
    "for neighborhood in neighborhoods:\n",
    "    print(f\"The Bensonhurst is in {neighborhood['properties']['BORONAME']} borough\")\n"
   ]
  },
  {
   "cell_type": "markdown",
   "metadata": {},
   "source": [
    "Approximately how many people live on (within 50 meters of) Bensonhurst?"
   ]
  },
  {
   "cell_type": "code",
   "execution_count": null,
   "metadata": {},
   "outputs": [],
   "source": [
    "from shapely.geometry import shape\n",
    "bensonhurst_geom = db['nyc_neighborhoods'].find_one({\n",
    "    \n",
    "    \"properties.NAME\": \"Bensonhurst\"\n",
    "    \n",
    "})\n",
    "bensonhurst_shape = shape(bensonhurst_geom['geometry'])\n",
    "centroid = bensonhurst_shape.centroid\n",
    "centroid_point = {\n",
    "    \"type\": \"Point\",\n",
    "    \"coordinates\": [centroid.x, centroid.y]\n",
    "}\n",
    "\n",
    "census_blocks_within_50m = db['nyc_census_blocks'].aggregate([\n",
    "    {\n",
    "        \"$geoNear\": {\n",
    "            \"near\": centroid_point,\n",
    "            \"distanceField\": \"dist.calculated\",\n",
    "            \"maxDistance\": 50,  # 50 meters,\n",
    "            \"spherical\": \"true\"\n",
    "        }\n",
    "    }\n",
    "])\n",
    "\n",
    "# Step 3: Sum the population\n",
    "total_population = 0\n",
    "\n",
    "for block in census_blocks_within_50m:\n",
    "    total_population += block['properties']['POPN_TOTAL']  # Safely sum the population\n",
    "\n",
    "print(f\"Approximately {total_population} people live within 50 meters of Bensonhurst.\")\n",
    "\n",
    "\n",
    "#https://www.mongodb.com/docs/manual/reference/operator/aggregation/geoNear/\n"
   ]
  }
 ],
 "metadata": {
  "kernelspec": {
   "display_name": ".venv",
   "language": "python",
   "name": "python3"
  },
  "language_info": {
   "codemirror_mode": {
    "name": "ipython",
    "version": 3
   },
   "file_extension": ".py",
   "mimetype": "text/x-python",
   "name": "python",
   "nbconvert_exporter": "python",
   "pygments_lexer": "ipython3",
   "version": "3.12.3"
  }
 },
 "nbformat": 4,
 "nbformat_minor": 2
}
